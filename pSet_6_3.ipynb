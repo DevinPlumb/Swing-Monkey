{
 "cells": [
  {
   "cell_type": "code",
   "execution_count": 1,
   "metadata": {},
   "outputs": [
    {
     "name": "stdout",
     "output_type": "stream",
     "text": [
      "pygame 1.9.6\n",
      "Hello from the pygame community. https://www.pygame.org/contribute.html\n"
     ]
    },
    {
     "data": {
      "text/plain": [
       "<Figure size 640x480 with 1 Axes>"
      ]
     },
     "metadata": {},
     "output_type": "display_data"
    },
    {
     "data": {
      "text/plain": [
       "<Figure size 640x480 with 1 Axes>"
      ]
     },
     "metadata": {},
     "output_type": "display_data"
    },
    {
     "data": {
      "text/plain": [
       "<Figure size 640x480 with 1 Axes>"
      ]
     },
     "metadata": {},
     "output_type": "display_data"
    },
    {
     "data": {
      "text/plain": [
       "<Figure size 640x480 with 1 Axes>"
      ]
     },
     "metadata": {},
     "output_type": "display_data"
    }
   ],
   "source": [
    "import math\n",
    "import numpy.random as npr\n",
    "import numpy as np\n",
    "import matplotlib.pyplot as plt\n",
    "import sys\n",
    "\n",
    "from SwingyMonkey import SwingyMonkey\n",
    "\n",
    "class Learner:\n",
    "\n",
    "  def __init__(self):\n",
    "    self.last_state  = None\n",
    "    self.last_action = None\n",
    "    self.last_reward = None\n",
    "    self.Q = np.zeros((100, 2))\n",
    "\n",
    "  def reset(self):\n",
    "    self.last_state  = None\n",
    "    self.last_action = None\n",
    "    self.last_reward = None\n",
    "\n",
    "  def action_callback(self, state):\n",
    "    '''Implement this function to learn things and take actions.\n",
    "    Return 0 if you don't want to jump and 1 if you do.'''\n",
    "    \n",
    "    if self.last_state == None:\n",
    "        self.last_action = 0\n",
    "        self.last_state  = state\n",
    "        return self.last_action\n",
    "    \n",
    "    else:\n",
    "        \n",
    "        def stateConvert(s):\n",
    "            # Parse the dictionary\n",
    "            score = s['score']\n",
    "    \n",
    "            tree = s['tree']\n",
    "            dist = tree['dist']\n",
    "            treeTop = tree['top']\n",
    "            treeBot = tree['bot']\n",
    "    \n",
    "            monkey = s['monkey']\n",
    "            vel = monkey['vel']\n",
    "            monkeyTop = monkey['top']\n",
    "            monkeyBot = monkey['bot']\n",
    "\n",
    "            # Define state with binning\n",
    "            s_new = (dist+115)/125\n",
    "            if monkeyBot > treeBot:\n",
    "                s_new = s_new+5\n",
    "                if monkeyBot+monkeyTop > treeBot+treeTop:\n",
    "                    s_new = s_new+5\n",
    "                    if monkeyTop > treeTop:\n",
    "                        s_new = s_new+5\n",
    "            if vel > -30:\n",
    "                s_new = s_new+20\n",
    "                if vel > -20:\n",
    "                    s_new = s_new+20\n",
    "                    if vel > -10:\n",
    "                        s_new = s_new+20\n",
    "                        if vel > 0:\n",
    "                            s_new = s_new+20\n",
    "            return s_new\n",
    "    \n",
    "        alpha = 0.1\n",
    "        gamma = 0.99\n",
    "    \n",
    "        s = stateConvert(self.last_state)\n",
    "        s_prime = stateConvert(state)\n",
    "        a_prime = 0\n",
    "        if self.Q[s_prime, 1] > self.Q[s_prime, a_prime]:\n",
    "            a_prime = 1\n",
    "    \n",
    "        self.Q[s, self.last_action] = self.Q[s, self.last_action] + alpha*((self.last_reward + gamma*self.Q[s_prime, a_prime])-self.Q[s, self.last_action])\n",
    "    \n",
    "        self.last_action = a_prime\n",
    "        self.last_state = state\n",
    "\n",
    "        return self.last_action\n",
    "\n",
    "  def reward_callback(self, reward):\n",
    "    '''This gets called so you can see what reward you get.'''\n",
    "\n",
    "    self.last_reward = reward\n",
    "\n",
    "iters = 500\n",
    "learner = Learner()\n",
    "\n",
    "x = np.arange(iters)\n",
    "scores = []\n",
    "cumulativeScore = 0\n",
    "cumulativeScores = []\n",
    "maxScore = 0\n",
    "maxX = []\n",
    "maxScores = []\n",
    "mean = []\n",
    "\n",
    "for ii in range(iters):\n",
    "\n",
    "  # Make a new monkey object.\n",
    "  swing = SwingyMonkey(sound=False,            # Don't play sounds.\n",
    "                       text=\"Epoch %d\" % (ii), # Display the epoch on screen.\n",
    "                       tick_length=1,          # Make game ticks super fast.\n",
    "                       action_callback=learner.action_callback,\n",
    "                       reward_callback=learner.reward_callback)\n",
    "\n",
    "  # Loop until you hit something.\n",
    "  while swing.game_loop():\n",
    "    pass\n",
    "\n",
    "  scores.append(swing.score)\n",
    "  cumulativeScore = cumulativeScore + swing.score\n",
    "  cumulativeScores.append(cumulativeScore)\n",
    "  mean.append(float(cumulativeScore)/float(ii+1))\n",
    "  if swing.score > maxScore:\n",
    "    maxScore = swing.score\n",
    "    maxX.append(ii)\n",
    "    maxScores.append(maxScore)\n",
    "  \n",
    "\n",
    "  # Reset the state of the learner.\n",
    "  learner.reset()\n",
    "    \n",
    "plt.scatter(x, np.asarray(scores))\n",
    "plt.xlabel('Generation')\n",
    "plt.ylabel('Score')\n",
    "plt.title('Score Improvement')\n",
    "plt.savefig(\"pSet_6_3_scoreImprovement.png\")\n",
    "plt.show()\n",
    "\n",
    "plt.plot(x, np.asarray(cumulativeScores))\n",
    "plt.xlabel('Generation')\n",
    "plt.ylabel('Cumulative Score')\n",
    "plt.title('Cumulative Score Growth')\n",
    "plt.savefig(\"pSet_6_3_cumulativeScoreGrowth.png\")\n",
    "plt.show()\n",
    "\n",
    "plt.plot(np.asarray(maxX), np.asarray(maxScores))\n",
    "plt.xlabel('Generation')\n",
    "plt.ylabel('Max Score')\n",
    "plt.title('Max Score Growth')\n",
    "plt.savefig(\"pSet_6_3_maxScoreGrowth.png\")\n",
    "plt.show()\n",
    "\n",
    "plt.plot(x, np.asarray(mean))\n",
    "plt.xlabel('Generation')\n",
    "plt.ylabel('Mean Score')\n",
    "plt.title('Mean Score Growth')\n",
    "plt.savefig(\"pSet_6_3_meanScoreGrowth.png\")\n",
    "plt.show()"
   ]
  },
  {
   "cell_type": "code",
   "execution_count": null,
   "metadata": {},
   "outputs": [],
   "source": []
  },
  {
   "cell_type": "code",
   "execution_count": null,
   "metadata": {},
   "outputs": [],
   "source": []
  }
 ],
 "metadata": {
  "kernelspec": {
   "display_name": "Python 2",
   "language": "python",
   "name": "python2"
  },
  "language_info": {
   "codemirror_mode": {
    "name": "ipython",
    "version": 2
   },
   "file_extension": ".py",
   "mimetype": "text/x-python",
   "name": "python",
   "nbconvert_exporter": "python",
   "pygments_lexer": "ipython2",
   "version": "2.7.15"
  }
 },
 "nbformat": 4,
 "nbformat_minor": 2
}
